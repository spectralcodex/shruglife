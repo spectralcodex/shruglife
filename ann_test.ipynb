{
  "nbformat": 4,
  "nbformat_minor": 0,
  "metadata": {
    "colab": {
      "name": "ann_test.ipynb",
      "provenance": [],
      "collapsed_sections": [],
      "authorship_tag": "ABX9TyNdeo5QHoEJBfm4W84o8Wdq",
      "include_colab_link": true
    },
    "kernelspec": {
      "name": "python3",
      "display_name": "Python 3"
    },
    "language_info": {
      "name": "python"
    }
  },
  "cells": [
    {
      "cell_type": "markdown",
      "metadata": {
        "id": "view-in-github",
        "colab_type": "text"
      },
      "source": [
        "<a href=\"https://colab.research.google.com/github/spectralcodex/shruglife/blob/main/ann_test.ipynb\" target=\"_parent\"><img src=\"https://colab.research.google.com/assets/colab-badge.svg\" alt=\"Open In Colab\"/></a>"
      ]
    },
    {
      "cell_type": "markdown",
      "metadata": {
        "id": "O2F6XRYm4rUH"
      },
      "source": [
        "# Artificial Neural Network"
      ]
    },
    {
      "cell_type": "markdown",
      "metadata": {
        "id": "DgFWRGFalspi"
      },
      "source": [
        "## Import libraries"
      ]
    },
    {
      "cell_type": "code",
      "metadata": {
        "id": "QsEr3d7fiOkR"
      },
      "source": [
        "import numpy as np\n",
        "import pandas as pd\n",
        "import tensorflow as tf"
      ],
      "execution_count": 3,
      "outputs": []
    },
    {
      "cell_type": "code",
      "metadata": {
        "colab": {
          "base_uri": "https://localhost:8080/",
          "height": 36
        },
        "id": "0yH3kYe_4ws6",
        "outputId": "49ec1d6e-b08e-46b3-8ec2-fe4c0f6e734a"
      },
      "source": [
        "tf.__version__"
      ],
      "execution_count": 4,
      "outputs": [
        {
          "output_type": "execute_result",
          "data": {
            "application/vnd.google.colaboratory.intrinsic+json": {
              "type": "string"
            },
            "text/plain": [
              "'2.4.1'"
            ]
          },
          "metadata": {
            "tags": []
          },
          "execution_count": 4
        }
      ]
    },
    {
      "cell_type": "markdown",
      "metadata": {
        "id": "8HrzrZtk43Yh"
      },
      "source": [
        "# Part 1 - Data Preprocessing"
      ]
    },
    {
      "cell_type": "markdown",
      "metadata": {
        "id": "GlD3tapBlzbb"
      },
      "source": [
        "## Import dataset"
      ]
    },
    {
      "cell_type": "code",
      "metadata": {
        "id": "nzrffdU8jsgO"
      },
      "source": [
        "dataset = pd.read_excel('Folds5x2_pp.xlsx')\n",
        "dataset\n",
        "## Create matrix features and dependent variable vector\n",
        "X = dataset.iloc[:, :-1].values\n",
        "y = dataset.iloc[:,-1].values"
      ],
      "execution_count": 8,
      "outputs": []
    },
    {
      "cell_type": "code",
      "metadata": {
        "colab": {
          "base_uri": "https://localhost:8080/"
        },
        "id": "RsKSH9f29FBI",
        "outputId": "4617afc0-3daf-47cc-d68f-b23eec0a1dbd"
      },
      "source": [
        "print(X)"
      ],
      "execution_count": 10,
      "outputs": [
        {
          "output_type": "stream",
          "text": [
            "[[  14.96   41.76 1024.07   73.17]\n",
            " [  25.18   62.96 1020.04   59.08]\n",
            " [   5.11   39.4  1012.16   92.14]\n",
            " ...\n",
            " [  31.32   74.33 1012.92   36.48]\n",
            " [  24.48   69.45 1013.86   62.39]\n",
            " [  21.6    62.52 1017.23   67.87]]\n"
          ],
          "name": "stdout"
        }
      ]
    },
    {
      "cell_type": "markdown",
      "metadata": {
        "id": "leSu1JKp5TIl"
      },
      "source": [
        "## Splitting the dataset to training and Test set"
      ]
    },
    {
      "cell_type": "code",
      "metadata": {
        "id": "9BmS0o345ctb"
      },
      "source": [
        "from sklearn.model_selection import train_test_split\n",
        "X_train, X_test, y_train, y_test = train_test_split(X, y, test_size = 0.2, random_state = 0)"
      ],
      "execution_count": 11,
      "outputs": []
    },
    {
      "cell_type": "markdown",
      "metadata": {
        "id": "mVJx-jSy5c-i"
      },
      "source": [
        "# Part 2 - Building ANN"
      ]
    },
    {
      "cell_type": "markdown",
      "metadata": {
        "id": "47ys7MTd5lNq"
      },
      "source": [
        "### Initializing the ANN"
      ]
    },
    {
      "cell_type": "code",
      "metadata": {
        "id": "g6IoNLjg-7Md"
      },
      "source": [
        "# Initialize model to handle the layers of neurons\n",
        "ann = tf.keras.models.Sequential() # First layer to recieve input"
      ],
      "execution_count": 12,
      "outputs": []
    },
    {
      "cell_type": "markdown",
      "metadata": {
        "id": "CoQE3ke-5pEF"
      },
      "source": [
        "### Adding the inut layer and the first hidden layer"
      ]
    },
    {
      "cell_type": "code",
      "metadata": {
        "id": "ac866xl-AVe9"
      },
      "source": [
        "# 1st Hidden layer with 6 neuros using rectifier activation funtion(weighted_sum calculator)\n",
        "ann.add(tf.keras.layers.Dense(units=6, activation='relu'))"
      ],
      "execution_count": 13,
      "outputs": []
    },
    {
      "cell_type": "markdown",
      "metadata": {
        "id": "xOkdIZmi5tnV"
      },
      "source": [
        "### Adding the secong hidden layer"
      ]
    },
    {
      "cell_type": "code",
      "metadata": {
        "id": "W7EuraoWCQV2"
      },
      "source": [
        "# 2nd Hidden layer with 6 neuros using rectifier activation funtion(weighted_sum calculator)\n",
        "ann.add(tf.keras.layers.Dense(units=6, activation='relu'))"
      ],
      "execution_count": 14,
      "outputs": []
    },
    {
      "cell_type": "markdown",
      "metadata": {
        "id": "8N4q_5Hz50Vx"
      },
      "source": [
        "### Adding the output layer"
      ]
    },
    {
      "cell_type": "code",
      "metadata": {
        "id": "fsc8pbgVCaaV"
      },
      "source": [
        "# Output layer with 1 neuros\n",
        "ann.add(tf.keras.layers.Dense(units=1))"
      ],
      "execution_count": 15,
      "outputs": []
    },
    {
      "cell_type": "markdown",
      "metadata": {
        "id": "wK9ZGRZJC7CX"
      },
      "source": [
        "## Part 3 - Training the ANN"
      ]
    },
    {
      "cell_type": "markdown",
      "metadata": {
        "id": "5Bvg00tY6Nud"
      },
      "source": [
        "### Compiling ANN"
      ]
    },
    {
      "cell_type": "code",
      "metadata": {
        "id": "qaqywj9yDuIz"
      },
      "source": [
        "# Create an optimizer to calulate the loss function\n",
        "ann.compile(optimizer = 'adam', loss = 'mean_squared_error')"
      ],
      "execution_count": 16,
      "outputs": []
    },
    {
      "cell_type": "markdown",
      "metadata": {
        "id": "VWffYZbPDSyK"
      },
      "source": [
        "### Predicting the results of the Test Set"
      ]
    },
    {
      "cell_type": "code",
      "metadata": {
        "colab": {
          "base_uri": "https://localhost:8080/"
        },
        "id": "-UHmhvVtH6rA",
        "outputId": "54ae7b3c-1ed8-4537-93b6-4660181e012a"
      },
      "source": [
        "ann.fit(x=X_train, y=y_train, epochs=100, batch_size=32)"
      ],
      "execution_count": 18,
      "outputs": [
        {
          "output_type": "stream",
          "text": [
            "Epoch 1/100\n",
            "240/240 [==============================] - 0s 1ms/step - loss: 26.3653\n",
            "Epoch 2/100\n",
            "240/240 [==============================] - 0s 1ms/step - loss: 26.1921\n",
            "Epoch 3/100\n",
            "240/240 [==============================] - 0s 1ms/step - loss: 26.6261\n",
            "Epoch 4/100\n",
            "240/240 [==============================] - 0s 1ms/step - loss: 26.0098\n",
            "Epoch 5/100\n",
            "240/240 [==============================] - 0s 1ms/step - loss: 26.2151\n",
            "Epoch 6/100\n",
            "240/240 [==============================] - 0s 1ms/step - loss: 26.1566\n",
            "Epoch 7/100\n",
            "240/240 [==============================] - 0s 1ms/step - loss: 26.4682\n",
            "Epoch 8/100\n",
            "240/240 [==============================] - 0s 1ms/step - loss: 26.5468\n",
            "Epoch 9/100\n",
            "240/240 [==============================] - 0s 1ms/step - loss: 26.5921\n",
            "Epoch 10/100\n",
            "240/240 [==============================] - 0s 1ms/step - loss: 26.2416\n",
            "Epoch 11/100\n",
            "240/240 [==============================] - 0s 1ms/step - loss: 26.3340\n",
            "Epoch 12/100\n",
            "240/240 [==============================] - 0s 1ms/step - loss: 25.9907\n",
            "Epoch 13/100\n",
            "240/240 [==============================] - 0s 1ms/step - loss: 26.4367\n",
            "Epoch 14/100\n",
            "240/240 [==============================] - 0s 1ms/step - loss: 26.3981\n",
            "Epoch 15/100\n",
            "240/240 [==============================] - 0s 1ms/step - loss: 26.4818\n",
            "Epoch 16/100\n",
            "240/240 [==============================] - 0s 1ms/step - loss: 26.6060\n",
            "Epoch 17/100\n",
            "240/240 [==============================] - 0s 1ms/step - loss: 26.2186\n",
            "Epoch 18/100\n",
            "240/240 [==============================] - 0s 1ms/step - loss: 26.3368\n",
            "Epoch 19/100\n",
            "240/240 [==============================] - 0s 1ms/step - loss: 26.2408\n",
            "Epoch 20/100\n",
            "240/240 [==============================] - 0s 1ms/step - loss: 26.2842\n",
            "Epoch 21/100\n",
            "240/240 [==============================] - 0s 1ms/step - loss: 26.5425\n",
            "Epoch 22/100\n",
            "240/240 [==============================] - 0s 1ms/step - loss: 26.2307\n",
            "Epoch 23/100\n",
            "240/240 [==============================] - 0s 1ms/step - loss: 26.6339\n",
            "Epoch 24/100\n",
            "240/240 [==============================] - 0s 1ms/step - loss: 26.1938\n",
            "Epoch 25/100\n",
            "240/240 [==============================] - 0s 1ms/step - loss: 26.1177\n",
            "Epoch 26/100\n",
            "240/240 [==============================] - 0s 1ms/step - loss: 26.3552\n",
            "Epoch 27/100\n",
            "240/240 [==============================] - 0s 1ms/step - loss: 26.1358\n",
            "Epoch 28/100\n",
            "240/240 [==============================] - 0s 1ms/step - loss: 26.1984\n",
            "Epoch 29/100\n",
            "240/240 [==============================] - 0s 1ms/step - loss: 26.8778\n",
            "Epoch 30/100\n",
            "240/240 [==============================] - 0s 1ms/step - loss: 26.4186\n",
            "Epoch 31/100\n",
            "240/240 [==============================] - 0s 1ms/step - loss: 26.1791\n",
            "Epoch 32/100\n",
            "240/240 [==============================] - 0s 1ms/step - loss: 26.5448\n",
            "Epoch 33/100\n",
            "240/240 [==============================] - 0s 1ms/step - loss: 26.3289\n",
            "Epoch 34/100\n",
            "240/240 [==============================] - 0s 1ms/step - loss: 26.6188\n",
            "Epoch 35/100\n",
            "240/240 [==============================] - 0s 1ms/step - loss: 26.6175\n",
            "Epoch 36/100\n",
            "240/240 [==============================] - 0s 1ms/step - loss: 26.1635\n",
            "Epoch 37/100\n",
            "240/240 [==============================] - 0s 1ms/step - loss: 26.2437\n",
            "Epoch 38/100\n",
            "240/240 [==============================] - 0s 1ms/step - loss: 26.4258\n",
            "Epoch 39/100\n",
            "240/240 [==============================] - 0s 1ms/step - loss: 26.5481\n",
            "Epoch 40/100\n",
            "240/240 [==============================] - 0s 1ms/step - loss: 26.5948\n",
            "Epoch 41/100\n",
            "240/240 [==============================] - 0s 1ms/step - loss: 26.3705\n",
            "Epoch 42/100\n",
            "240/240 [==============================] - 0s 1ms/step - loss: 27.0095\n",
            "Epoch 43/100\n",
            "240/240 [==============================] - 0s 1ms/step - loss: 26.2007\n",
            "Epoch 44/100\n",
            "240/240 [==============================] - 0s 1ms/step - loss: 26.1745\n",
            "Epoch 45/100\n",
            "240/240 [==============================] - 0s 1ms/step - loss: 26.8709\n",
            "Epoch 46/100\n",
            "240/240 [==============================] - 0s 1ms/step - loss: 26.2568\n",
            "Epoch 47/100\n",
            "240/240 [==============================] - 0s 1ms/step - loss: 26.7784\n",
            "Epoch 48/100\n",
            "240/240 [==============================] - 0s 1ms/step - loss: 26.6369\n",
            "Epoch 49/100\n",
            "240/240 [==============================] - 0s 1ms/step - loss: 26.2157\n",
            "Epoch 50/100\n",
            "240/240 [==============================] - 0s 1ms/step - loss: 26.1290\n",
            "Epoch 51/100\n",
            "240/240 [==============================] - 0s 1ms/step - loss: 26.7703\n",
            "Epoch 52/100\n",
            "240/240 [==============================] - 0s 1ms/step - loss: 26.6626\n",
            "Epoch 53/100\n",
            "240/240 [==============================] - 0s 1ms/step - loss: 26.4334\n",
            "Epoch 54/100\n",
            "240/240 [==============================] - 0s 1ms/step - loss: 26.3578\n",
            "Epoch 55/100\n",
            "240/240 [==============================] - 0s 1ms/step - loss: 26.1588\n",
            "Epoch 56/100\n",
            "240/240 [==============================] - 0s 1ms/step - loss: 26.1699\n",
            "Epoch 57/100\n",
            "240/240 [==============================] - 0s 1ms/step - loss: 26.4775\n",
            "Epoch 58/100\n",
            "240/240 [==============================] - 0s 1ms/step - loss: 26.0799\n",
            "Epoch 59/100\n",
            "240/240 [==============================] - 0s 1ms/step - loss: 26.4704\n",
            "Epoch 60/100\n",
            "240/240 [==============================] - 0s 1ms/step - loss: 26.1776\n",
            "Epoch 61/100\n",
            "240/240 [==============================] - 0s 1ms/step - loss: 26.4852\n",
            "Epoch 62/100\n",
            "240/240 [==============================] - 0s 1ms/step - loss: 27.0642\n",
            "Epoch 63/100\n",
            "240/240 [==============================] - 0s 1ms/step - loss: 26.2152\n",
            "Epoch 64/100\n",
            "240/240 [==============================] - 0s 1ms/step - loss: 26.4069\n",
            "Epoch 65/100\n",
            "240/240 [==============================] - 0s 1ms/step - loss: 26.2281\n",
            "Epoch 66/100\n",
            "240/240 [==============================] - 0s 1ms/step - loss: 26.5861\n",
            "Epoch 67/100\n",
            "240/240 [==============================] - 0s 1ms/step - loss: 26.4842\n",
            "Epoch 68/100\n",
            "240/240 [==============================] - 0s 1ms/step - loss: 26.5942\n",
            "Epoch 69/100\n",
            "240/240 [==============================] - 0s 1ms/step - loss: 26.8070\n",
            "Epoch 70/100\n",
            "240/240 [==============================] - 0s 1ms/step - loss: 26.1295\n",
            "Epoch 71/100\n",
            "240/240 [==============================] - 0s 1ms/step - loss: 26.2147\n",
            "Epoch 72/100\n",
            "240/240 [==============================] - 0s 1ms/step - loss: 26.3278\n",
            "Epoch 73/100\n",
            "240/240 [==============================] - 0s 1ms/step - loss: 26.2161\n",
            "Epoch 74/100\n",
            "240/240 [==============================] - 0s 1ms/step - loss: 26.4962\n",
            "Epoch 75/100\n",
            "240/240 [==============================] - 0s 1ms/step - loss: 26.3387\n",
            "Epoch 76/100\n",
            "240/240 [==============================] - 0s 1ms/step - loss: 26.5661\n",
            "Epoch 77/100\n",
            "240/240 [==============================] - 0s 1ms/step - loss: 26.2756\n",
            "Epoch 78/100\n",
            "240/240 [==============================] - 0s 1ms/step - loss: 26.2398\n",
            "Epoch 79/100\n",
            "240/240 [==============================] - 0s 1ms/step - loss: 26.1114\n",
            "Epoch 80/100\n",
            "240/240 [==============================] - 0s 1ms/step - loss: 26.4356\n",
            "Epoch 81/100\n",
            "240/240 [==============================] - 0s 1ms/step - loss: 26.2255\n",
            "Epoch 82/100\n",
            "240/240 [==============================] - 0s 1ms/step - loss: 26.4440\n",
            "Epoch 83/100\n",
            "240/240 [==============================] - 0s 1ms/step - loss: 27.0118\n",
            "Epoch 84/100\n",
            "240/240 [==============================] - 0s 1ms/step - loss: 26.2201\n",
            "Epoch 85/100\n",
            "240/240 [==============================] - 0s 1ms/step - loss: 26.5169\n",
            "Epoch 86/100\n",
            "240/240 [==============================] - 0s 1ms/step - loss: 26.2115\n",
            "Epoch 87/100\n",
            "240/240 [==============================] - 0s 1ms/step - loss: 26.2174\n",
            "Epoch 88/100\n",
            "240/240 [==============================] - 0s 1ms/step - loss: 26.3961\n",
            "Epoch 89/100\n",
            "240/240 [==============================] - 0s 1ms/step - loss: 26.3442\n",
            "Epoch 90/100\n",
            "240/240 [==============================] - 0s 1ms/step - loss: 26.8802\n",
            "Epoch 91/100\n",
            "240/240 [==============================] - 0s 1ms/step - loss: 26.4793\n",
            "Epoch 92/100\n",
            "240/240 [==============================] - 0s 1ms/step - loss: 26.3858\n",
            "Epoch 93/100\n",
            "240/240 [==============================] - 0s 1ms/step - loss: 26.4712\n",
            "Epoch 94/100\n",
            "240/240 [==============================] - 0s 1ms/step - loss: 26.1441\n",
            "Epoch 95/100\n",
            "240/240 [==============================] - 0s 1ms/step - loss: 26.2271\n",
            "Epoch 96/100\n",
            "240/240 [==============================] - 0s 1ms/step - loss: 26.3891\n",
            "Epoch 97/100\n",
            "240/240 [==============================] - 0s 1ms/step - loss: 26.5843\n",
            "Epoch 98/100\n",
            "240/240 [==============================] - 0s 1ms/step - loss: 26.2039\n",
            "Epoch 99/100\n",
            "240/240 [==============================] - 0s 1ms/step - loss: 26.6258\n",
            "Epoch 100/100\n",
            "240/240 [==============================] - 0s 1ms/step - loss: 26.1526\n"
          ],
          "name": "stdout"
        },
        {
          "output_type": "execute_result",
          "data": {
            "text/plain": [
              "<tensorflow.python.keras.callbacks.History at 0x7f76b5d07c10>"
            ]
          },
          "metadata": {
            "tags": []
          },
          "execution_count": 18
        }
      ]
    },
    {
      "cell_type": "markdown",
      "metadata": {
        "id": "gCNiSczHI0vm"
      },
      "source": [
        "## Predicting the results"
      ]
    },
    {
      "cell_type": "code",
      "metadata": {
        "colab": {
          "base_uri": "https://localhost:8080/"
        },
        "id": "FjDW9Gd0JhjP",
        "outputId": "ba9704c7-f175-4349-e17d-2a0598f0f35f"
      },
      "source": [
        "y_pred = ann.predict(X_test)\n",
        "np.set_printoptions(precision=2)\n",
        "print(np.concatenate((y_pred.reshape(len(y_pred), 1), y_test.reshape(len(y_test), 1) ), 1))"
      ],
      "execution_count": 20,
      "outputs": [
        {
          "output_type": "stream",
          "text": [
            "[[430.65 431.23]\n",
            " [461.59 460.01]\n",
            " [465.07 461.14]\n",
            " ...\n",
            " [472.33 473.26]\n",
            " [439.16 438.  ]\n",
            " [458.36 463.28]]\n"
          ],
          "name": "stdout"
        }
      ]
    },
    {
      "cell_type": "markdown",
      "metadata": {
        "id": "hwWFLyai6Pqr"
      },
      "source": [
        ""
      ]
    }
  ]
}